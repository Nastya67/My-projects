{
 "cells": [
  {
   "cell_type": "code",
   "execution_count": 7,
   "metadata": {
    "collapsed": true
   },
   "outputs": [],
   "source": [
    "import pandas as pd\n",
    "import numpy as np\n",
    "import matplotlib.pyplot as plt\n",
    "import scipy.stats as sts\n",
    "%matplotlib inline"
   ]
  },
  {
   "cell_type": "code",
   "execution_count": 15,
   "metadata": {
    "collapsed": true
   },
   "outputs": [],
   "source": [
    "import math\n",
    "t0 = 1\n",
    "t1 = 2\n",
    "t2 = 0.5\n",
    "f1 = lambda x: t2*x**2+t1*x+t0\n",
    "f2 = lambda x: t2*x**4-t1*x**2-t0*x\n",
    "f3 = lambda x: t2*math.cos(t1*x)\n",
    "f = f3"
   ]
  },
  {
   "cell_type": "code",
   "execution_count": 18,
   "metadata": {},
   "outputs": [
    {
     "name": "stdout",
     "output_type": "stream",
     "text": [
      "x: -1.5705\n",
      "y: -0.5000\n",
      " \n"
     ]
    }
   ],
   "source": [
    "progres_x = []\n",
    "def gd(f, dx=0.01, x0=0, n=25, progres_x=progres_x):\n",
    "    x = x0\n",
    "    for i in range(n):\n",
    "        grad = (f(x+dx)-f(x))/dx\n",
    "        while f(x)<f(x-grad):\n",
    "            grad /= 10\n",
    "        x -= grad\n",
    "        progres_x.append(x)\n",
    "    return (x, f(x))\n",
    "x_res, y_res = gd(f, x0=-3)\n",
    "print(\"x: {0:.4f}\\ny: {1:.4f}\\n \".format(x_res, y_res))"
   ]
  },
  {
   "cell_type": "code",
   "execution_count": 19,
   "metadata": {},
   "outputs": [
    {
     "data": {
      "text/plain": [
       "[<matplotlib.lines.Line2D at 0x1b82ddf30b8>]"
      ]
     },
     "execution_count": 19,
     "metadata": {},
     "output_type": "execute_result"
    },
    {
     "data": {
      "image/png": "[encoded data removed]",
      "text/plain": [
       "<matplotlib.figure.Figure at 0x1b82ddf3278>"
      ]
     },
     "metadata": {},
     "output_type": "display_data"
    }
   ],
   "source": [
    "x = np.linspace(-4, 2,100)\n",
    "y = list(map(f, x))\n",
    "progres_y = list(map(f, progres_x))\n",
    "plt.plot(x, y)\n",
    "plt.plot(progres_x, progres_y, 'o')"
   ]
  },
  {
   "cell_type": "code",
   "execution_count": null,
   "metadata": {
    "collapsed": true
   },
   "outputs": [],
   "source": []
  }
 ],
 "metadata": {
  "kernelspec": {
   "display_name": "Python 3",
   "language": "python",
   "name": "python3"
  },
  "language_info": {
   "codemirror_mode": {
    "name": "ipython",
    "version": 3
   },
   "file_extension": ".py",
   "mimetype": "text/x-python",
   "name": "python",
   "nbconvert_exporter": "python",
   "pygments_lexer": "ipython3",
   "version": "3.6.1"
  }
 },
 "nbformat": 4,
 "nbformat_minor": 2
}
