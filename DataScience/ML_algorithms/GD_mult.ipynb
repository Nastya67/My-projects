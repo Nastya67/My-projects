{
 "cells": [
  {
   "cell_type": "code",
   "execution_count": 1,
   "metadata": {
    "collapsed": true
   },
   "outputs": [],
   "source": [
    "import pandas as pd\n",
    "import numpy as np\n",
    "import matplotlib.pyplot as plt\n",
    "import scipy.stats as sts\n",
    "%matplotlib inline\n",
    "import math"
   ]
  },
  {
   "cell_type": "code",
   "execution_count": 14,
   "metadata": {
    "collapsed": true
   },
   "outputs": [],
   "source": [
    "k0 = 1\n",
    "k1 = 1\n",
    "k2 = 1\n",
    "f3 = lambda x: k0+k1*x[0]**2+k2*x[1]**2"
   ]
  },
  {
   "cell_type": "code",
   "execution_count": 20,
   "metadata": {},
   "outputs": [
    {
     "name": "stdout",
     "output_type": "stream",
     "text": [
      "x1: -0.0000\n",
      "x2: -0.0000\n",
      "y: 1.0000\n",
      " \n"
     ]
    }
   ],
   "source": [
    "def gd(f, x0=[0], dx=0.01, n=500, alfa = 0.1):\n",
    "    x = np.array(x0, dtype=float)\n",
    "    grad = np.zeros(len(x))\n",
    "    for m in range(n):\n",
    "        for i in range(len(x)):\n",
    "            x_and_dx = np.hstack((x[:i], [x[i]+dx], x[i+1:]))\n",
    "            grad[i] = (f(x_and_dx)-f(x))/dx\n",
    "        x -=grad*alfa\n",
    "    return (x, f(x))\n",
    "x_res, y_res = gd(f3, [5, 5], 0.00001)\n",
    "print(\"x1: {0:.4f}\\nx2: {1:.4f}\\ny: {2:.4f}\\n \".format(x_res[0], x_res[1], y_res))"
   ]
  },
  {
   "cell_type": "code",
   "execution_count": null,
   "metadata": {
    "collapsed": true
   },
   "outputs": [],
   "source": []
  }
 ],
 "metadata": {
  "kernelspec": {
   "display_name": "Python 3",
   "language": "python",
   "name": "python3"
  },
  "language_info": {
   "codemirror_mode": {
    "name": "ipython",
    "version": 3
   },
   "file_extension": ".py",
   "mimetype": "text/x-python",
   "name": "python",
   "nbconvert_exporter": "python",
   "pygments_lexer": "ipython3",
   "version": "3.6.1"
  }
 },
 "nbformat": 4,
 "nbformat_minor": 2
}
