{
 "cells": [
  {
   "cell_type": "code",
   "execution_count": 1,
   "metadata": {
    "collapsed": true
   },
   "outputs": [],
   "source": [
    "import numpy as np\n",
    "from collections import Counter, defaultdict"
   ]
  },
  {
   "cell_type": "code",
   "execution_count": 2,
   "metadata": {},
   "outputs": [],
   "source": [
    "def occurrences(list1):\n",
    "    no_of_examples = len(list1)\n",
    "    prob = dict(Counter(list1))\n",
    "    for key in prob.keys():\n",
    "        prob[key] = prob[key] / no_of_examples\n",
    "    return prob\n",
    "\n",
    "def naive_bayes(training, outcome, new_sample):\n",
    "    classes     = np.unique(outcome)\n",
    "    rows, cols  = np.shape(training)\n",
    "    likelihoods = {}\n",
    "    for cls in classes:\n",
    "        likelihoods[cls] = defaultdict(list) \n",
    "    class_probabilities = occurrences(outcome) \n",
    "    for cls in classes:\n",
    "        row_indices = np.where(outcome == cls)[0]\n",
    "        subset      = training[row_indices]\n",
    "        r, c        = np.shape(subset)\n",
    "        for j in np.arange(c):\n",
    "            likelihoods[cls][j] += list(subset[:,j]) \n",
    "    for cls in classes:\n",
    "        for j in range(0,cols):\n",
    "             likelihoods[cls][j] = occurrences(likelihoods[cls][j]) \n",
    "    results = {}\n",
    "    for cls in classes:\n",
    "        class_probability = class_probabilities[cls]\n",
    "        for i in np.arange(len(new_sample)):\n",
    "            relative_values = likelihoods[cls][i]\n",
    "            if new_sample[i] in relative_values.keys():\n",
    "                class_probability *= relative_values[new_sample[i]]\n",
    "            else:\n",
    "                class_probability *= 0\n",
    "            results[cls] = class_probability\n",
    "    return results\n"
   ]
  },
  {
   "cell_type": "code",
   "execution_count": 3,
   "metadata": {},
   "outputs": [
    {
     "data": {
      "text/plain": [
       "{0: 0.022222222222222216, 1: 0.05247813411078716}"
      ]
     },
     "execution_count": 3,
     "metadata": {},
     "output_type": "execute_result"
    }
   ],
   "source": [
    "training   = np.asarray(((0,0,1,0),\n",
    "                         (0,1,1,0),\n",
    "                         (1,0,1,1),\n",
    "                         (1,0,0,1),\n",
    "                         (0,0,1,1),\n",
    "                         (0,1,1,1),\n",
    "                         (0,1,0,1),\n",
    "                         (0,1,0,1),\n",
    "                         (0,1,0,0),\n",
    "                         (0,1,1,0)))\n",
    "outcome    = np.asarray((1,1,1,1,0,1,0,1,1,0))\n",
    "new_sample = np.asarray((0,0,1,0))\n",
    "naive_bayes(training, outcome, new_sample)"
   ]
  },
  {
   "cell_type": "code",
   "execution_count": null,
   "metadata": {
    "collapsed": true
   },
   "outputs": [],
   "source": []
  }
 ],
 "metadata": {
  "kernelspec": {
   "display_name": "Python 3",
   "language": "python",
   "name": "python3"
  },
  "language_info": {
   "codemirror_mode": {
    "name": "ipython",
    "version": 3
   },
   "file_extension": ".py",
   "mimetype": "text/x-python",
   "name": "python",
   "nbconvert_exporter": "python",
   "pygments_lexer": "ipython3",
   "version": "3.6.1"
  }
 },
 "nbformat": 4,
 "nbformat_minor": 2
}
