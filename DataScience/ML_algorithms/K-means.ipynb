{
 "cells": [
  {
   "cell_type": "code",
   "execution_count": 1,
   "metadata": {
    "collapsed": true
   },
   "outputs": [],
   "source": [
    "import pandas as pd\n",
    "import numpy as np\n",
    "import matplotlib.pyplot as plt\n",
    "%matplotlib inline\n",
    "import math\n",
    "import random\n",
    "from matplotlib.colors import ListedColormap"
   ]
  },
  {
   "cell_type": "code",
   "execution_count": 2,
   "metadata": {
    "collapsed": true
   },
   "outputs": [],
   "source": [
    "def generateData (size, numberOfClasses, dimensional = 2):\n",
    "    data = []\n",
    "    for classNum in range(numberOfClasses):\n",
    "        center = [random.random()*5.0 for i in range(dimensional)]\n",
    "        for rowNum in range(size):\n",
    "            data.append(np.array([random.gauss(center[i],0.5) for i in range(dimensional)]))\n",
    "    return np.array(data)"
   ]
  },
  {
   "cell_type": "code",
   "execution_count": 3,
   "metadata": {
    "scrolled": true
   },
   "outputs": [
    {
     "data": {
      "image/png": "[encoded data removed]",
      "text/plain": [
       "<matplotlib.figure.Figure at 0x1f0b2689710>"
      ]
     },
     "metadata": {},
     "output_type": "display_data"
    }
   ],
   "source": [
    "def showData (trainData, nClasses, nItemsInClass):\n",
    "    plt.scatter([trainData[i][0] for i in range(len(trainData))],\n",
    "               [trainData[i][1] for i in range(len(trainData))])\n",
    "    plt.show() \n",
    "size = 40\n",
    "nClasses = 3\n",
    "data = generateData (size, nClasses)\n",
    "showData (data, nClasses, size)"
   ]
  },
  {
   "cell_type": "code",
   "execution_count": 4,
   "metadata": {},
   "outputs": [
    {
     "data": {
      "image/png": "[encoded data removed]",
      "text/plain": [
       "<matplotlib.figure.Figure at 0x1f0b2acf860>"
      ]
     },
     "metadata": {},
     "output_type": "display_data"
    }
   ],
   "source": [
    "k = 3\n",
    "centroids = [[np.random.randint(0, 5), np.random.randint(0, 5)]\n",
    "    for i in range(k)]\n",
    "    \n",
    "fig = plt.figure(figsize=(6, 6))\n",
    "plt.scatter(data[:, 0], data[:, 1], color='k')\n",
    "for centr in centroids:\n",
    "    plt.scatter(*centr)\n",
    "plt.show()"
   ]
  },
  {
   "cell_type": "code",
   "execution_count": 5,
   "metadata": {},
   "outputs": [],
   "source": [
    "def assignment (data, centroids):\n",
    "    distanses = []\n",
    "    for i in np.arange(len(centroids)):\n",
    "        s = 0\n",
    "        for j in np.arange(len(data[0])):\n",
    "            s += (data[:,j] - centroids[i][j]) ** 2\n",
    "        distanses.append(s)\n",
    "    distanses = np.matrix(distanses)\n",
    "    res = np.argmin(distanses, axis=0)\n",
    "    return res"
   ]
  },
  {
   "cell_type": "code",
   "execution_count": 6,
   "metadata": {},
   "outputs": [],
   "source": [
    "def update(data, centroids, min_distanses):\n",
    "    for i in np.arange(len(centroids)):\n",
    "        md = np.array([[el]*2 for el in min_distanses.tolist()[0]])\n",
    "        condition = md == i\n",
    "        tmp = np.extract(condition, data)\n",
    "        tmp = np.reshape(tmp, (-1, 2))\n",
    "        for j in np.arange(len(centroids[i])):\n",
    "            centroids[i][j] = np.mean(tmp[:, j])\n",
    "    return centroids"
   ]
  },
  {
   "cell_type": "code",
   "execution_count": 7,
   "metadata": {
    "scrolled": true
   },
   "outputs": [],
   "source": [
    "min_distanses = 0\n",
    "for n in np.arange(5):\n",
    "    min_distanses = assignment(data, centroids)\n",
    "    for i in np.arange(len(centroids)):\n",
    "        md = np.array([[el]*2 for el in min_distanses.tolist()[0]])\n",
    "        condition = md == i\n",
    "        tmp = np.extract(condition, data)\n",
    "        tmp = np.reshape(tmp, (-1, 2))\n",
    "    centroids = update(data, centroids, min_distanses)"
   ]
  },
  {
   "cell_type": "code",
   "execution_count": 8,
   "metadata": {},
   "outputs": [
    {
     "data": {
      "image/png": "[encoded data removed]",
      "text/plain": [
       "<matplotlib.figure.Figure at 0x1f0b2b13630>"
      ]
     },
     "metadata": {},
     "output_type": "display_data"
    }
   ],
   "source": [
    "for i in np.arange(len(centroids)):\n",
    "    md = np.array([[el]*2 for el in min_distanses.tolist()[0]])\n",
    "    condition = md == i\n",
    "    tmp = np.extract(condition, data)\n",
    "    tmp = np.reshape(tmp, (-1, 2))\n",
    "    plt.plot(tmp[:, 0],tmp[:, 1], 'x')\n",
    "for centr in centroids:\n",
    "    plt.scatter(*centr)"
   ]
  },
  {
   "cell_type": "code",
   "execution_count": null,
   "metadata": {
    "collapsed": true
   },
   "outputs": [],
   "source": []
  }
 ],
 "metadata": {
  "kernelspec": {
   "display_name": "Python 3",
   "language": "python",
   "name": "python3"
  },
  "language_info": {
   "codemirror_mode": {
    "name": "ipython",
    "version": 3
   },
   "file_extension": ".py",
   "mimetype": "text/x-python",
   "name": "python",
   "nbconvert_exporter": "python",
   "pygments_lexer": "ipython3",
   "version": "3.6.1"
  }
 },
 "nbformat": 4,
 "nbformat_minor": 2
}
