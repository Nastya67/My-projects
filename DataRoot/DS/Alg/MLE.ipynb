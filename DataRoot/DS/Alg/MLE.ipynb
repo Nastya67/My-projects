{
 "cells": [
  {
   "cell_type": "code",
   "execution_count": 3,
   "metadata": {
    "collapsed": true
   },
   "outputs": [],
   "source": [
    "import pandas as pd\n",
    "import numpy as np\n",
    "import matplotlib.pyplot as plt\n",
    "import scipy.stats as sts\n",
    "%matplotlib inline\n",
    "import math"
   ]
  },
  {
   "cell_type": "code",
   "execution_count": 20,
   "metadata": {},
   "outputs": [
    {
     "data": {
      "text/plain": [
       "array([ 0.24949933])"
      ]
     },
     "execution_count": 20,
     "metadata": {},
     "output_type": "execute_result"
    }
   ],
   "source": [
    "f = lambda p: 2*p**3*(1-3*p)\n",
    "def gd (f, start_point, dx=0.001, n=10000, alfa=0.05):\n",
    "    point = np.array(start_point, dtype=float)\n",
    "    grad = np.array([0]*len(start_point), dtype=float)\n",
    "    for m in np.arange(n):\n",
    "        for i in np.arange(len(grad)):\n",
    "            arg_and_delta = np.hstack((point[:i], [point[i]+dx], point[i+1:]))\n",
    "            grad[i] = (f(arg_and_delta)-f(point))/dx\n",
    "        point += grad*alfa\n",
    "    return point\n",
    "gd(f, [0])\n",
    "    "
   ]
  },
  {
   "cell_type": "code",
   "execution_count": null,
   "metadata": {
    "collapsed": true
   },
   "outputs": [],
   "source": []
  }
 ],
 "metadata": {
  "kernelspec": {
   "display_name": "Python 3",
   "language": "python",
   "name": "python3"
  },
  "language_info": {
   "codemirror_mode": {
    "name": "ipython",
    "version": 3
   },
   "file_extension": ".py",
   "mimetype": "text/x-python",
   "name": "python",
   "nbconvert_exporter": "python",
   "pygments_lexer": "ipython3",
   "version": "3.6.1"
  }
 },
 "nbformat": 4,
 "nbformat_minor": 2
}
