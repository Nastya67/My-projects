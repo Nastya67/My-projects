{
 "cells": [
  {
   "cell_type": "code",
   "execution_count": 1,
   "metadata": {
    "collapsed": true
   },
   "outputs": [],
   "source": [
    "import pandas as pd\n",
    "import numpy as np\n",
    "import matplotlib.pyplot as plt\n",
    "import scipy.stats as sts\n",
    "%matplotlib inline\n",
    "import math"
   ]
  },
  {
   "cell_type": "code",
   "execution_count": 2,
   "metadata": {
    "collapsed": true
   },
   "outputs": [],
   "source": [
    "x, y = np.mgrid[0:16,:16] \n",
    "x=x.flatten().astype(float)\n",
    "y=y.flatten().astype(float)\n",
    "z=np.array([int(x[i]+y[i]+np.random.rand()*4-2<=15) for i in np.arange(len(x))] , dtype=np.float64)\n",
    "k = np.array([10, -1, -1])\n",
    "def f(x, k):\n",
    "    x = np.hstack(([1], x[:-1]))\n",
    "    return x.T.dot(k)"
   ]
  },
  {
   "cell_type": "code",
   "execution_count": 3,
   "metadata": {},
   "outputs": [],
   "source": [
    "def gd(funk_to_optimaze, funk, funk_args, funk_koefs, dx=0.01, n=15, alfa = 0.0005):\n",
    "    grad = np.array([0.]*len(funk_koefs))\n",
    "    funk_koefs = np.array(funk_koefs, dtype=\"float64\")\n",
    "    funk_args = np.array(funk_args, dtype=np.float64)\n",
    "    for m in range(n):\n",
    "        for i in range(len(funk_koefs)):\n",
    "            f=funk_to_optimaze(funk, funk_args, funk_koefs)\n",
    "            koef_and_delta = np.concatenate((funk_koefs[:i], [funk_koefs[i]+dx], funk_koefs[i+1:]))\n",
    "            grad[i] = (funk_to_optimaze(funk, funk_args, koef_and_delta)-f)/dx\n",
    "       #     alfa_tmp = alfa\n",
    "        #while funk_to_optimaze(funk, funk_args, funk_koefs-grad*alfa_tmp)>f:\n",
    "         #   alfa_tmp /=2\n",
    "        funk_koefs -= grad*alfa#_tmp\n",
    "        print(-funk_koefs[0]/funk_koefs[2], -funk_koefs[1]/funk_koefs[2])\n",
    "    return funk_koefs     "
   ]
  },
  {
   "cell_type": "code",
   "execution_count": 4,
   "metadata": {
    "collapsed": true
   },
   "outputs": [],
   "source": [
    "def sigma(z):\n",
    "    res = 0.0000000001\n",
    "    try:\n",
    "        res = 1/(1.0000000001+math.exp(-z))\n",
    "    finally: \n",
    "        return res\n",
    "        \n",
    "    \n",
    "def cost(funk, arg_list, koefs):\n",
    "    res = 0\n",
    "    for z in arg_list[-1]:\n",
    "        for i in np.arange(len(arg_list[0])):\n",
    "            res += z*math.log(sigma(funk(arg_list[:,i], koefs)))+(1-z)*math.log(1-sigma(funk(arg_list[:,i], koefs)))\n",
    "    return -res/len(arg_list[0])"
   ]
  },
  {
   "cell_type": "code",
   "execution_count": 5,
   "metadata": {
    "collapsed": true
   },
   "outputs": [],
   "source": [
    "def log_regr(f, data_list, koefs):\n",
    "    koefs = gd(cost, f, data_list, koefs)\n",
    "    print(koefs)\n",
    "    def funk(coord):\n",
    "        return f(coord, koefs)\n",
    "    return funk, koefs"
   ]
  },
  {
   "cell_type": "code",
   "execution_count": 6,
   "metadata": {
    "collapsed": true
   },
   "outputs": [
    {
     "name": "stdout",
     "output_type": "stream",
     "text": [
      "15.8495068027 -1.0\n",
      "18.8322534782 -1.0\n",
      "16.8037703288 -1.0\n",
      "18.2421822071 -1.0\n",
      "17.2198961228 -1.0\n",
      "17.955807954 -1.0\n",
      "17.4246363912 -1.0\n",
      "17.8103246268 -1.0\n",
      "17.5290947973 -1.0\n",
      "17.7347312239 -1.0\n",
      "17.5834215878 -1.0\n",
      "17.6947470039 -0.999999999999\n",
      "17.6120651809 -1.0\n",
      "17.6732143669 -0.999999999998\n",
      "17.6273223633 -0.999999999998\n",
      "[ 9.77974671 -0.55480614 -0.55480614]\n"
     ]
    }
   ],
   "source": [
    "funk, koefs = log_regr(f, np.vstack((x, y, z)), k)"
   ]
  },
  {
   "cell_type": "code",
   "execution_count": 7,
   "metadata": {
    "scrolled": true
   },
   "outputs": [
    {
     "name": "stdout",
     "output_type": "stream",
     "text": [
      "17.6273223633 -0.999999999998\n"
     ]
    },
    {
     "data": {
      "text/plain": [
       "[<matplotlib.lines.Line2D at 0x1f7b5866518>]"
      ]
     },
     "execution_count": 7,
     "metadata": {},
     "output_type": "execute_result"
    },
    {
     "data": {
      "image/png": "[encoded data removed]",
      "text/plain": [
       "<matplotlib.figure.Figure at 0x1f7b9cd6550>"
      ]
     },
     "metadata": {},
     "output_type": "display_data"
    }
   ],
   "source": [
    "#res_funk = lambda x: -koefs[0]/koefs[3]-koefs[1]/koefs[3]*x-koefs[2]/koefs[3]*x**2\n",
    "print(-koefs[0]/koefs[2],-koefs[1]/koefs[2])\n",
    "res_funk = lambda x: -koefs[0]/koefs[2]-koefs[1]/koefs[2]*x\n",
    "x_pic = np.linspace(0, 16,100)\n",
    "y_pic = list(map(res_funk, x_pic))             \n",
    "plt.plot(x_pic, y_pic)\n",
    "xy1 = np.array([(x[i], y[i]) for i in  np.arange(len(x)) if z[i]==1])\n",
    "xy2 = np.array([(x[i], y[i]) for i in  np.arange(len(x)) if z[i]==0])\n",
    "plt.plot(xy1[:, 0],xy1[:,1],  'o')\n",
    "plt.plot(xy2[:, 0],xy2[:,1],  'o')"
   ]
  },
  {
   "cell_type": "code",
   "execution_count": 8,
   "metadata": {},
   "outputs": [
    {
     "name": "stdout",
     "output_type": "stream",
     "text": [
      "[ 0.  0.  1.]\n"
     ]
    },
    {
     "data": {
      "text/plain": [
       "0.9999434169749131"
      ]
     },
     "execution_count": 8,
     "metadata": {},
     "output_type": "execute_result"
    }
   ],
   "source": [
    "i = 0\n",
    "coord = np.vstack((x, y, z))[:,i]\n",
    "print(coord)\n",
    "sigma(funk(coord))"
   ]
  },
  {
   "cell_type": "code",
   "execution_count": null,
   "metadata": {
    "collapsed": true
   },
   "outputs": [],
   "source": []
  }
 ],
 "metadata": {
  "kernelspec": {
   "display_name": "Python 3",
   "language": "python",
   "name": "python3"
  },
  "language_info": {
   "codemirror_mode": {
    "name": "ipython",
    "version": 3
   },
   "file_extension": ".py",
   "mimetype": "text/x-python",
   "name": "python",
   "nbconvert_exporter": "python",
   "pygments_lexer": "ipython3",
   "version": "3.6.1"
  }
 },
 "nbformat": 4,
 "nbformat_minor": 2
}
