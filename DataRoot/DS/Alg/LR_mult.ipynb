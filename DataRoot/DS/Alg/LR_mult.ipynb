{
 "cells": [
  {
   "cell_type": "code",
   "execution_count": 1,
   "metadata": {
    "collapsed": true
   },
   "outputs": [],
   "source": [
    "import pandas as pd\n",
    "import numpy as np\n",
    "import matplotlib.pyplot as plt\n",
    "%matplotlib inline\n",
    "import math"
   ]
  },
  {
   "cell_type": "code",
   "execution_count": 288,
   "metadata": {
    "collapsed": true
   },
   "outputs": [],
   "source": [
    "x = np.array([0, 1, 2, 3, 4, 5, 6, 7, 8, 9])\n",
    "y = np.array([1, 0, 2, 2, 4, 8, 6, 6, 9, 8])\n",
    "z = np.array([9, 7, 8, 6, 5, 5, 3, 1, 1, 0])"
   ]
  },
  {
   "cell_type": "code",
   "execution_count": 289,
   "metadata": {
    "collapsed": true
   },
   "outputs": [],
   "source": [
    "f = lambda x, y, *k: k[0]+k[1]*x+k[2]*y\n",
    "def despers(funk, arg_list, koefs):\n",
    "    k = 1/(len(arg_list[0])*2) \n",
    "    summa = 0\n",
    "    for i in range(len(arg_list[0])):\n",
    "        summa += (funk(*arg_list[:-1, i], *koefs)-arg_list[-1, i])**2\n",
    "    return k*summa\n",
    "\n",
    "def gd_2(f, f_arg_funkLin, f_arg_data, list_koef, dx=0.01, n=5000, alfa = 0.01):\n",
    "    grad = np.array([0.]*len(list_koef))\n",
    "    list_koef = np.array(list_koef, dtype=\"float64\")\n",
    "    f_arg_data = np.array(f_arg_data, dtype=\"float64\")\n",
    "    for m in range(n):\n",
    "        for i in range(len(list_koef)):\n",
    "            koef_and_delta = np.concatenate((list_koef[:i], [list_koef[i]+dx], list_koef[i+1:]))\n",
    "            grad[i] = alfa*(f(f_arg_funkLin, f_arg_data, koef_and_delta)-f(f_arg_funkLin, f_arg_data, list_koef))/dx\n",
    "        list_koef -= grad\n",
    "    return list_koef"
   ]
  },
  {
   "cell_type": "code",
   "execution_count": 290,
   "metadata": {},
   "outputs": [
    {
     "name": "stdout",
     "output_type": "stream",
     "text": [
      "9.06 -1.35 0.33\n"
     ]
    }
   ],
   "source": [
    "print(\"{0[0]:.2f} {0[1]:.2f} {0[2]:.2f}\".format(gd_2(despers, f, [x, y, z], [0, 0, 0])))"
   ]
  },
  {
   "cell_type": "code",
   "execution_count": 295,
   "metadata": {
    "collapsed": true
   },
   "outputs": [],
   "source": [
    "def lr(f, *data_list):\n",
    "    koefs = gd_2(despers, f, data_list, [0]*len(data_list))\n",
    "    def funk(*coord):\n",
    "        res = koefs[0]\n",
    "        for i in range(len(koefs)-1):\n",
    "            res += koefs[i+1]*coord[i]\n",
    "        return res\n",
    "    return funk\n",
    "\n"
   ]
  },
  {
   "cell_type": "code",
   "execution_count": 296,
   "metadata": {},
   "outputs": [
    {
     "data": {
      "text/plain": [
       "[<matplotlib.lines.Line2D at 0x1f78ce70128>]"
      ]
     },
     "execution_count": 296,
     "metadata": {},
     "output_type": "execute_result"
    },
    {
     "data": {
      "image/png": "[encoded data removed]",
      "text/plain": [
       "<matplotlib.figure.Figure at 0x1f78c3289e8>"
      ]
     },
     "metadata": {},
     "output_type": "display_data"
    }
   ],
   "source": [
    "funk = lr(f, x, y, z)\n",
    "x_pic = np.linspace(0, 10,100)\n",
    "y_pic = np.linspace(0, 10,100)\n",
    "z_pic = list(map(funk, x_pic, y_pic))\n",
    "plt.plot(y_pic, z_pic)\n",
    "plt.plot(y, z, 'o')"
   ]
  },
  {
   "cell_type": "code",
   "execution_count": 297,
   "metadata": {},
   "outputs": [
    {
     "data": {
      "text/plain": [
       "[<matplotlib.lines.Line2D at 0x1f78b941a58>]"
      ]
     },
     "execution_count": 297,
     "metadata": {},
     "output_type": "execute_result"
    },
    {
     "data": {
      "image/png": "[encoded data removed]",
      "text/plain": [
       "<matplotlib.figure.Figure at 0x1f78cf655c0>"
      ]
     },
     "metadata": {},
     "output_type": "display_data"
    }
   ],
   "source": [
    "plt.plot(x_pic, y_pic)\n",
    "plt.plot(x, y, 'o')"
   ]
  },
  {
   "cell_type": "code",
   "execution_count": 298,
   "metadata": {},
   "outputs": [
    {
     "data": {
      "text/plain": [
       "[<matplotlib.lines.Line2D at 0x1f78d601a20>]"
      ]
     },
     "execution_count": 298,
     "metadata": {},
     "output_type": "execute_result"
    },
    {
     "data": {
      "image/png": "[encoded data removed]",
      "text/plain": [
       "<matplotlib.figure.Figure at 0x1f78d601940>"
      ]
     },
     "metadata": {},
     "output_type": "display_data"
    }
   ],
   "source": [
    "plt.plot(x_pic, z_pic)\n",
    "plt.plot(x, z, 'o')"
   ]
  }
 ],
 "metadata": {
  "kernelspec": {
   "display_name": "Python 3",
   "language": "python",
   "name": "python3"
  },
  "language_info": {
   "codemirror_mode": {
    "name": "ipython",
    "version": 3
   },
   "file_extension": ".py",
   "mimetype": "text/x-python",
   "name": "python",
   "nbconvert_exporter": "python",
   "pygments_lexer": "ipython3",
   "version": "3.6.1"
  }
 },
 "nbformat": 4,
 "nbformat_minor": 2
}
