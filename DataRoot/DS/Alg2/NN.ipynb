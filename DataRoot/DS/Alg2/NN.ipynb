{
 "cells": [
  {
   "cell_type": "code",
   "execution_count": 1,
   "metadata": {
    "collapsed": true
   },
   "outputs": [],
   "source": [
    "import pandas as pd\n",
    "import numpy as np\n",
    "import matplotlib.pyplot as plt\n",
    "%matplotlib inline\n",
    "import math"
   ]
  },
  {
   "cell_type": "markdown",
   "metadata": {},
   "source": [
    "Не рабочая моя реализация..завтра исправлю"
   ]
  },
  {
   "cell_type": "code",
   "execution_count": 2,
   "metadata": {
    "collapsed": true
   },
   "outputs": [],
   "source": [
    "def sigma(z):\n",
    "    return 1/(1+math.exp(-z))"
   ]
  },
  {
   "cell_type": "code",
   "execution_count": 3,
   "metadata": {
    "collapsed": true
   },
   "outputs": [],
   "source": [
    "def cost(f, data, k):\n",
    "    res = 0\n",
    "    arg = data[:, :-1]\n",
    "    y = data[:, -1]\n",
    "    size = len(data)\n",
    "    for i in np.arange(size):\n",
    "        for j in np.arange(k):\n",
    "            r1 = y[i]*math.log(sigma(f(arg[i])))\n",
    "            r0 = (1-y[i])*math.log(1-sigma(f(arg[i])))\n",
    "    return -res/size"
   ]
  },
  {
   "cell_type": "code",
   "execution_count": null,
   "metadata": {
    "collapsed": true
   },
   "outputs": [],
   "source": [
    "class NN(object):\n",
    "    def __init__(self, lambd = 0):\n",
    "        self.layers = []\n",
    "        self.b = []\n",
    "        self.delta = []\n",
    "        self.lambd = lambd\n",
    "    def add_layer(self, n_node, n_nodeInNextLayer):\n",
    "        self.layers.append(np.random.rand(n_nodeInNextLayer, n_node+1))\n",
    "        self.b.append(1.)\n",
    "    def play(self, args):\n",
    "        self.a = []\n",
    "        self.a.append(args)\n",
    "        for i in np.arange(1, len(self.layers)):\n",
    "            sig = np.vectorize(sigma)\n",
    "            res = sig((self.layers[i-1].dot(np.array(args.tolist() + [self.b[i-1]]))))\n",
    "            self.a.append(res)\n",
    "            args = self.a[-1]\n",
    "    def update_delta(self, y):\n",
    "        L = len(self.layers)\n",
    "        self.s = [0]*L\n",
    "        self.s[-1] = self.a[-1]-y \n",
    "        for i in np.arange(L-1):\n",
    "            index = L-2-i\n",
    "            pr_sig = self.a[index].T.dot(1-self.a[index])\n",
    "            self.s[index] = self.layers[index].dot(self.s[index+1])*pr_sig\n",
    "        for i in np.arange(L-1):\n",
    "            self.delta[i] += self.s[i+1].dot(self.a[i].T)\n",
    "        self.counting_data += 1\n",
    "    def delta_init(self):\n",
    "        self.delta = [0]*(len(self.layers))\n",
    "        self.counting_data = 0\n",
    "    def fix_koefs(self):\n",
    "        L = len(self.layers)\n",
    "        for i in np.arange(L):\n",
    "            self.delta[i] /= self.counting_data\n",
    "        for i in np.arange(L):\n",
    "            self.delta[i] += self.lambd*self.layers[i+1].koefs\n",
    "        for i in np.arange(L):\n",
    "            self.layers[i].koefs -= self.delta[i]\n",
    "    \n",
    "    "
   ]
  },
  {
   "cell_type": "code",
   "execution_count": 28,
   "metadata": {
    "collapsed": true
   },
   "outputs": [],
   "source": [
    "def main(NN, data,y, n = 10000):\n",
    "    inputLayer = NN.layers[0]\n",
    "    outputLayer = NN.layers[-1]\n",
    "    hiddenLayers = NN.layers[1:-1]\n",
    "    size = len(data)\n",
    "    for k in np.arange(n):\n",
    "        NN.delta_init()\n",
    "        for i in np.arange(size):\n",
    "            #print('args: ',np.reshape(data[i].T, (-1, 1)))\n",
    "            NN.play(np.reshape(data[i].T, (-1, 1)))\n",
    "            NN.update_delta(y[i])\n",
    "        NN.fix_koefs()            "
   ]
  },
  {
   "cell_type": "code",
   "execution_count": 29,
   "metadata": {
    "collapsed": true
   },
   "outputs": [],
   "source": [
    "NNet = NN(0.1)\n",
    "NNet.add_layer(2, 2)\n",
    "NNet.add_layer(2, 2)\n",
    "NNet.add_layer(1, 2)"
   ]
  },
  {
   "cell_type": "code",
   "execution_count": 61,
   "metadata": {},
   "outputs": [
    {
     "name": "stdout",
     "output_type": "stream",
     "text": [
      "[[ 0.73177827]]\n"
     ]
    }
   ],
   "source": [
    "NNet.play(np.reshape(x[2].T, (-1, 1)))\n",
    "print(NNet.a[-1])"
   ]
  }
 ],
 "metadata": {
  "kernelspec": {
   "display_name": "Python 3",
   "language": "python",
   "name": "python3"
  },
  "language_info": {
   "codemirror_mode": {
    "name": "ipython",
    "version": 3
   },
   "file_extension": ".py",
   "mimetype": "text/x-python",
   "name": "python",
   "nbconvert_exporter": "python",
   "pygments_lexer": "ipython3",
   "version": "3.6.1"
  }
 },
 "nbformat": 4,
 "nbformat_minor": 2
}
