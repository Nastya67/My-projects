{
 "cells": [
  {
   "cell_type": "code",
   "execution_count": 1,
   "metadata": {
    "collapsed": true
   },
   "outputs": [],
   "source": [
    "import pandas as pd\n",
    "import numpy as np\n",
    "import matplotlib.pyplot as plt\n",
    "%matplotlib inline\n",
    "import math"
   ]
  },
  {
   "cell_type": "code",
   "execution_count": 2,
   "metadata": {
    "collapsed": true
   },
   "outputs": [],
   "source": [
    "x = np.array([  [0,0,1],[0,1,1],[1,0,1],[1,1,1] ])\n",
    "y = np.array([[0,1, 1, 0]]).T"
   ]
  },
  {
   "cell_type": "code",
   "execution_count": 3,
   "metadata": {
    "collapsed": true
   },
   "outputs": [],
   "source": [
    "def sigma(x):\n",
    "    return 1/(1+np.exp(-x))\n",
    "def der_sigma(x):\n",
    "    return x*(1-x)"
   ]
  },
  {
   "cell_type": "code",
   "execution_count": 6,
   "metadata": {},
   "outputs": [],
   "source": [
    "class NN2(object):\n",
    "    def __init__(self):\n",
    "        self.l = [0]\n",
    "        self.k = []\n",
    "    def add_layer(self, n_node, n_nodeInNextL):\n",
    "        self.k.append(2*np.random.random((n_nodeInNextL, n_node+1)) - 1)\n",
    "        self.l.append(0)\n",
    "    def forward(self, data):\n",
    "        self.l[0] = np.concatenate((data, np.array([[1]*data.shape[1]])))\n",
    "        for i in np.arange(1, len(self.l)):\n",
    "            self.l[i] = sigma(np.dot(self.k[i-1], self.l[i-1]))\n",
    "            self.l[i] = np.concatenate((self.l[i], np.array([[1]*self.l[i].shape[1]])))\n",
    "        self.l[-1] = self.l[-1][:-1]\n",
    "    def back(self, y):\n",
    "        L = len(self.l)\n",
    "        self.error = [0]*(L)\n",
    "        self.delta = [0]*L\n",
    "        self.error[-1] = y.T-self.l[-1]\n",
    "        self.delta[-1] = self.error[-1]*der_sigma(self.l[-1])\n",
    "        for i in np.arange(1, L-1):\n",
    "            ind = L-i-1\n",
    "            self.error[ind] = self.delta[ind+1].T.dot(self.k[ind]).T\n",
    "            self.delta[ind] = (self.error[ind]*der_sigma(self.l[ind]))[:-1]\n",
    "        for i in np.arange(L-1):       \n",
    "            self.k[i] += self.l[i].dot(self.delta[i+1].T).T\n",
    "nn = NN2()\n",
    "nn.add_layer(2, 2)\n",
    "nn.add_layer(2, 1)\n",
    "for i in np.arange(100000):\n",
    "    nn.forward(x[:, :-1].T)\n",
    "    nn.back(y)"
   ]
  },
  {
   "cell_type": "code",
   "execution_count": 7,
   "metadata": {},
   "outputs": [
    {
     "name": "stdout",
     "output_type": "stream",
     "text": [
      "[[ 0.00322171  0.99669354  0.99669354  0.00403901]]\n"
     ]
    }
   ],
   "source": [
    "nn.forward(x[:, :-1].T)\n",
    "print(nn.l[-1])"
   ]
  },
  {
   "cell_type": "code",
   "execution_count": null,
   "metadata": {
    "collapsed": true
   },
   "outputs": [],
   "source": []
  }
 ],
 "metadata": {
  "kernelspec": {
   "display_name": "Python 3",
   "language": "python",
   "name": "python3"
  },
  "language_info": {
   "codemirror_mode": {
    "name": "ipython",
    "version": 3
   },
   "file_extension": ".py",
   "mimetype": "text/x-python",
   "name": "python",
   "nbconvert_exporter": "python",
   "pygments_lexer": "ipython3",
   "version": "3.6.1"
  }
 },
 "nbformat": 4,
 "nbformat_minor": 2
}
